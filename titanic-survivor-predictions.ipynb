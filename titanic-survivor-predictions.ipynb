{
 "cells": [
  {
   "cell_type": "code",
   "execution_count": 2,
   "metadata": {
    "_cell_guid": "b1076dfc-b9ad-4769-8c92-a6c4dae69d19",
    "_uuid": "8f2839f25d086af736a60e9eeb907d3b93b6e0e5",
    "execution": {
     "iopub.execute_input": "2025-09-07T04:16:23.521333Z",
     "iopub.status.busy": "2025-09-07T04:16:23.520616Z",
     "iopub.status.idle": "2025-09-07T04:16:24.613208Z",
     "shell.execute_reply": "2025-09-07T04:16:24.612480Z",
     "shell.execute_reply.started": "2025-09-07T04:16:23.521296Z"
    },
    "trusted": true
   },
   "outputs": [
    {
     "name": "stdout",
     "output_type": "stream",
     "text": [
      "test.csv\n",
      "train.csv\n",
      "gender_submission.csv\n"
     ]
    }
   ],
   "source": [
    "# This Python 3 environment comes with many helpful analytics libraries installed\n",
    "# It is defined by the kaggle/python Docker image: https://github.com/kaggle/docker-python\n",
    "# For example, here's several helpful packages to load\n",
    "\n",
    "import glob\n",
    "import numpy as np # linear algebra\n",
    "import pandas as pd # data processing, CSV file I/O (e.g. pd.read_csv)\n",
    "\n",
    "# Input data files are available in the read-only \"../input/\" directory\n",
    "# For example, running this (by clicking run or pressing Shift+Enter) will list all files under the input directory\n",
    "import matplotlib.pyplot as plt\n",
    "import seaborn as sns\n",
    "import os\n",
    "for filepath in glob.glob(\"*.csv\"):\n",
    "    print(filepath)\n",
    "\n",
    "# You can write up to 20GB to the current directory (/kaggle/working/) that gets preserved as output when you create a version using \"Save & Run All\" \n",
    "# You can also write temporary files to /kaggle/temp/, but they won't be saved outside of the current session"
   ]
  },
  {
   "cell_type": "code",
   "execution_count": 3,
   "metadata": {
    "execution": {
     "iopub.execute_input": "2025-09-07T04:16:24.614921Z",
     "iopub.status.busy": "2025-09-07T04:16:24.614596Z",
     "iopub.status.idle": "2025-09-07T04:16:24.655876Z",
     "shell.execute_reply": "2025-09-07T04:16:24.655312Z",
     "shell.execute_reply.started": "2025-09-07T04:16:24.614903Z"
    },
    "trusted": true
   },
   "outputs": [
    {
     "data": {
      "text/plain": [
       "Index(['PassengerId', 'Survived', 'Pclass', 'Name', 'Sex', 'Age', 'SibSp',\n",
       "       'Parch', 'Ticket', 'Fare', 'Cabin', 'Embarked', 'train_or_test'],\n",
       "      dtype='object')"
      ]
     },
     "execution_count": 3,
     "metadata": {},
     "output_type": "execute_result"
    }
   ],
   "source": [
    "#let's read the files in\n",
    "training_data = pd.read_csv('./train.csv')\n",
    "test_data = pd.read_csv('./test.csv')\n",
    "\n",
    "training_data['train_or_test'] = 1\n",
    "test_data['train_or_test'] = 0\n",
    "\n",
    "#test data is missing the survived column so initialize one\n",
    "test_data['Survived'] = np.nan\n",
    "\n",
    "all_data = pd.concat([training_data, test_data])\n",
    "\n",
    "all_data.columns\n"
   ]
  },
  {
   "cell_type": "code",
   "execution_count": 4,
   "metadata": {
    "execution": {
     "iopub.execute_input": "2025-09-07T04:16:24.656753Z",
     "iopub.status.busy": "2025-09-07T04:16:24.656560Z",
     "iopub.status.idle": "2025-09-07T04:16:24.672014Z",
     "shell.execute_reply": "2025-09-07T04:16:24.671219Z",
     "shell.execute_reply.started": "2025-09-07T04:16:24.656737Z"
    },
    "trusted": true
   },
   "outputs": [
    {
     "name": "stdout",
     "output_type": "stream",
     "text": [
      "<class 'pandas.core.frame.DataFrame'>\n",
      "RangeIndex: 891 entries, 0 to 890\n",
      "Data columns (total 13 columns):\n",
      " #   Column         Non-Null Count  Dtype  \n",
      "---  ------         --------------  -----  \n",
      " 0   PassengerId    891 non-null    int64  \n",
      " 1   Survived       891 non-null    int64  \n",
      " 2   Pclass         891 non-null    int64  \n",
      " 3   Name           891 non-null    object \n",
      " 4   Sex            891 non-null    object \n",
      " 5   Age            714 non-null    float64\n",
      " 6   SibSp          891 non-null    int64  \n",
      " 7   Parch          891 non-null    int64  \n",
      " 8   Ticket         891 non-null    object \n",
      " 9   Fare           891 non-null    float64\n",
      " 10  Cabin          204 non-null    object \n",
      " 11  Embarked       889 non-null    object \n",
      " 12  train_or_test  891 non-null    int64  \n",
      "dtypes: float64(2), int64(6), object(5)\n",
      "memory usage: 90.6+ KB\n"
     ]
    }
   ],
   "source": [
    "#what does the data look like, shapes sizes etc.\n",
    "training_data.info()\n",
    "#age and cabin columns seem to have a lot of null values.."
   ]
  },
  {
   "cell_type": "code",
   "execution_count": 5,
   "metadata": {
    "execution": {
     "iopub.execute_input": "2025-09-07T04:16:24.674081Z",
     "iopub.status.busy": "2025-09-07T04:16:24.673834Z",
     "iopub.status.idle": "2025-09-07T04:16:24.717966Z",
     "shell.execute_reply": "2025-09-07T04:16:24.717351Z",
     "shell.execute_reply.started": "2025-09-07T04:16:24.674062Z"
    },
    "trusted": true
   },
   "outputs": [
    {
     "data": {
      "text/html": [
       "<div>\n",
       "<style scoped>\n",
       "    .dataframe tbody tr th:only-of-type {\n",
       "        vertical-align: middle;\n",
       "    }\n",
       "\n",
       "    .dataframe tbody tr th {\n",
       "        vertical-align: top;\n",
       "    }\n",
       "\n",
       "    .dataframe thead th {\n",
       "        text-align: right;\n",
       "    }\n",
       "</style>\n",
       "<table border=\"1\" class=\"dataframe\">\n",
       "  <thead>\n",
       "    <tr style=\"text-align: right;\">\n",
       "      <th></th>\n",
       "      <th>PassengerId</th>\n",
       "      <th>Survived</th>\n",
       "      <th>Pclass</th>\n",
       "      <th>Age</th>\n",
       "      <th>SibSp</th>\n",
       "      <th>Parch</th>\n",
       "      <th>Fare</th>\n",
       "      <th>train_or_test</th>\n",
       "    </tr>\n",
       "  </thead>\n",
       "  <tbody>\n",
       "    <tr>\n",
       "      <th>count</th>\n",
       "      <td>891.000000</td>\n",
       "      <td>891.000000</td>\n",
       "      <td>891.000000</td>\n",
       "      <td>714.000000</td>\n",
       "      <td>891.000000</td>\n",
       "      <td>891.000000</td>\n",
       "      <td>891.000000</td>\n",
       "      <td>891.0</td>\n",
       "    </tr>\n",
       "    <tr>\n",
       "      <th>mean</th>\n",
       "      <td>446.000000</td>\n",
       "      <td>0.383838</td>\n",
       "      <td>2.308642</td>\n",
       "      <td>29.699118</td>\n",
       "      <td>0.523008</td>\n",
       "      <td>0.381594</td>\n",
       "      <td>32.204208</td>\n",
       "      <td>1.0</td>\n",
       "    </tr>\n",
       "    <tr>\n",
       "      <th>std</th>\n",
       "      <td>257.353842</td>\n",
       "      <td>0.486592</td>\n",
       "      <td>0.836071</td>\n",
       "      <td>14.526497</td>\n",
       "      <td>1.102743</td>\n",
       "      <td>0.806057</td>\n",
       "      <td>49.693429</td>\n",
       "      <td>0.0</td>\n",
       "    </tr>\n",
       "    <tr>\n",
       "      <th>min</th>\n",
       "      <td>1.000000</td>\n",
       "      <td>0.000000</td>\n",
       "      <td>1.000000</td>\n",
       "      <td>0.420000</td>\n",
       "      <td>0.000000</td>\n",
       "      <td>0.000000</td>\n",
       "      <td>0.000000</td>\n",
       "      <td>1.0</td>\n",
       "    </tr>\n",
       "    <tr>\n",
       "      <th>25%</th>\n",
       "      <td>223.500000</td>\n",
       "      <td>0.000000</td>\n",
       "      <td>2.000000</td>\n",
       "      <td>20.125000</td>\n",
       "      <td>0.000000</td>\n",
       "      <td>0.000000</td>\n",
       "      <td>7.910400</td>\n",
       "      <td>1.0</td>\n",
       "    </tr>\n",
       "    <tr>\n",
       "      <th>50%</th>\n",
       "      <td>446.000000</td>\n",
       "      <td>0.000000</td>\n",
       "      <td>3.000000</td>\n",
       "      <td>28.000000</td>\n",
       "      <td>0.000000</td>\n",
       "      <td>0.000000</td>\n",
       "      <td>14.454200</td>\n",
       "      <td>1.0</td>\n",
       "    </tr>\n",
       "    <tr>\n",
       "      <th>75%</th>\n",
       "      <td>668.500000</td>\n",
       "      <td>1.000000</td>\n",
       "      <td>3.000000</td>\n",
       "      <td>38.000000</td>\n",
       "      <td>1.000000</td>\n",
       "      <td>0.000000</td>\n",
       "      <td>31.000000</td>\n",
       "      <td>1.0</td>\n",
       "    </tr>\n",
       "    <tr>\n",
       "      <th>max</th>\n",
       "      <td>891.000000</td>\n",
       "      <td>1.000000</td>\n",
       "      <td>3.000000</td>\n",
       "      <td>80.000000</td>\n",
       "      <td>8.000000</td>\n",
       "      <td>6.000000</td>\n",
       "      <td>512.329200</td>\n",
       "      <td>1.0</td>\n",
       "    </tr>\n",
       "  </tbody>\n",
       "</table>\n",
       "</div>"
      ],
      "text/plain": [
       "       PassengerId    Survived      Pclass         Age       SibSp  \\\n",
       "count   891.000000  891.000000  891.000000  714.000000  891.000000   \n",
       "mean    446.000000    0.383838    2.308642   29.699118    0.523008   \n",
       "std     257.353842    0.486592    0.836071   14.526497    1.102743   \n",
       "min       1.000000    0.000000    1.000000    0.420000    0.000000   \n",
       "25%     223.500000    0.000000    2.000000   20.125000    0.000000   \n",
       "50%     446.000000    0.000000    3.000000   28.000000    0.000000   \n",
       "75%     668.500000    1.000000    3.000000   38.000000    1.000000   \n",
       "max     891.000000    1.000000    3.000000   80.000000    8.000000   \n",
       "\n",
       "            Parch        Fare  train_or_test  \n",
       "count  891.000000  891.000000          891.0  \n",
       "mean     0.381594   32.204208            1.0  \n",
       "std      0.806057   49.693429            0.0  \n",
       "min      0.000000    0.000000            1.0  \n",
       "25%      0.000000    7.910400            1.0  \n",
       "50%      0.000000   14.454200            1.0  \n",
       "75%      0.000000   31.000000            1.0  \n",
       "max      6.000000  512.329200            1.0  "
      ]
     },
     "execution_count": 5,
     "metadata": {},
     "output_type": "execute_result"
    }
   ],
   "source": [
    "training_data.describe()"
   ]
  },
  {
   "cell_type": "code",
   "execution_count": 6,
   "metadata": {
    "execution": {
     "iopub.execute_input": "2025-09-07T04:16:24.718841Z",
     "iopub.status.busy": "2025-09-07T04:16:24.718660Z",
     "iopub.status.idle": "2025-09-07T04:16:24.730287Z",
     "shell.execute_reply": "2025-09-07T04:16:24.729525Z",
     "shell.execute_reply.started": "2025-09-07T04:16:24.718825Z"
    },
    "trusted": true
   },
   "outputs": [
    {
     "data": {
      "text/html": [
       "<div>\n",
       "<style scoped>\n",
       "    .dataframe tbody tr th:only-of-type {\n",
       "        vertical-align: middle;\n",
       "    }\n",
       "\n",
       "    .dataframe tbody tr th {\n",
       "        vertical-align: top;\n",
       "    }\n",
       "\n",
       "    .dataframe thead th {\n",
       "        text-align: right;\n",
       "    }\n",
       "</style>\n",
       "<table border=\"1\" class=\"dataframe\">\n",
       "  <thead>\n",
       "    <tr style=\"text-align: right;\">\n",
       "      <th></th>\n",
       "      <th>PassengerId</th>\n",
       "      <th>Survived</th>\n",
       "      <th>Pclass</th>\n",
       "      <th>Name</th>\n",
       "      <th>Sex</th>\n",
       "      <th>Age</th>\n",
       "      <th>SibSp</th>\n",
       "      <th>Parch</th>\n",
       "      <th>Ticket</th>\n",
       "      <th>Fare</th>\n",
       "      <th>Cabin</th>\n",
       "      <th>Embarked</th>\n",
       "      <th>train_or_test</th>\n",
       "    </tr>\n",
       "  </thead>\n",
       "  <tbody>\n",
       "    <tr>\n",
       "      <th>0</th>\n",
       "      <td>1</td>\n",
       "      <td>0</td>\n",
       "      <td>3</td>\n",
       "      <td>Braund, Mr. Owen Harris</td>\n",
       "      <td>male</td>\n",
       "      <td>22.0</td>\n",
       "      <td>1</td>\n",
       "      <td>0</td>\n",
       "      <td>A/5 21171</td>\n",
       "      <td>7.2500</td>\n",
       "      <td>NaN</td>\n",
       "      <td>S</td>\n",
       "      <td>1</td>\n",
       "    </tr>\n",
       "    <tr>\n",
       "      <th>1</th>\n",
       "      <td>2</td>\n",
       "      <td>1</td>\n",
       "      <td>1</td>\n",
       "      <td>Cumings, Mrs. John Bradley (Florence Briggs Th...</td>\n",
       "      <td>female</td>\n",
       "      <td>38.0</td>\n",
       "      <td>1</td>\n",
       "      <td>0</td>\n",
       "      <td>PC 17599</td>\n",
       "      <td>71.2833</td>\n",
       "      <td>C85</td>\n",
       "      <td>C</td>\n",
       "      <td>1</td>\n",
       "    </tr>\n",
       "    <tr>\n",
       "      <th>2</th>\n",
       "      <td>3</td>\n",
       "      <td>1</td>\n",
       "      <td>3</td>\n",
       "      <td>Heikkinen, Miss. Laina</td>\n",
       "      <td>female</td>\n",
       "      <td>26.0</td>\n",
       "      <td>0</td>\n",
       "      <td>0</td>\n",
       "      <td>STON/O2. 3101282</td>\n",
       "      <td>7.9250</td>\n",
       "      <td>NaN</td>\n",
       "      <td>S</td>\n",
       "      <td>1</td>\n",
       "    </tr>\n",
       "    <tr>\n",
       "      <th>3</th>\n",
       "      <td>4</td>\n",
       "      <td>1</td>\n",
       "      <td>1</td>\n",
       "      <td>Futrelle, Mrs. Jacques Heath (Lily May Peel)</td>\n",
       "      <td>female</td>\n",
       "      <td>35.0</td>\n",
       "      <td>1</td>\n",
       "      <td>0</td>\n",
       "      <td>113803</td>\n",
       "      <td>53.1000</td>\n",
       "      <td>C123</td>\n",
       "      <td>S</td>\n",
       "      <td>1</td>\n",
       "    </tr>\n",
       "    <tr>\n",
       "      <th>4</th>\n",
       "      <td>5</td>\n",
       "      <td>0</td>\n",
       "      <td>3</td>\n",
       "      <td>Allen, Mr. William Henry</td>\n",
       "      <td>male</td>\n",
       "      <td>35.0</td>\n",
       "      <td>0</td>\n",
       "      <td>0</td>\n",
       "      <td>373450</td>\n",
       "      <td>8.0500</td>\n",
       "      <td>NaN</td>\n",
       "      <td>S</td>\n",
       "      <td>1</td>\n",
       "    </tr>\n",
       "  </tbody>\n",
       "</table>\n",
       "</div>"
      ],
      "text/plain": [
       "   PassengerId  Survived  Pclass  \\\n",
       "0            1         0       3   \n",
       "1            2         1       1   \n",
       "2            3         1       3   \n",
       "3            4         1       1   \n",
       "4            5         0       3   \n",
       "\n",
       "                                                Name     Sex   Age  SibSp  \\\n",
       "0                            Braund, Mr. Owen Harris    male  22.0      1   \n",
       "1  Cumings, Mrs. John Bradley (Florence Briggs Th...  female  38.0      1   \n",
       "2                             Heikkinen, Miss. Laina  female  26.0      0   \n",
       "3       Futrelle, Mrs. Jacques Heath (Lily May Peel)  female  35.0      1   \n",
       "4                           Allen, Mr. William Henry    male  35.0      0   \n",
       "\n",
       "   Parch            Ticket     Fare Cabin Embarked  train_or_test  \n",
       "0      0         A/5 21171   7.2500   NaN        S              1  \n",
       "1      0          PC 17599  71.2833   C85        C              1  \n",
       "2      0  STON/O2. 3101282   7.9250   NaN        S              1  \n",
       "3      0            113803  53.1000  C123        S              1  \n",
       "4      0            373450   8.0500   NaN        S              1  "
      ]
     },
     "execution_count": 6,
     "metadata": {},
     "output_type": "execute_result"
    }
   ],
   "source": [
    "training_data.head()"
   ]
  },
  {
   "cell_type": "code",
   "execution_count": 7,
   "metadata": {
    "execution": {
     "iopub.execute_input": "2025-09-07T04:16:24.731499Z",
     "iopub.status.busy": "2025-09-07T04:16:24.731180Z",
     "iopub.status.idle": "2025-09-07T04:16:24.756059Z",
     "shell.execute_reply": "2025-09-07T04:16:24.755507Z",
     "shell.execute_reply.started": "2025-09-07T04:16:24.731475Z"
    },
    "trusted": true
   },
   "outputs": [
    {
     "data": {
      "text/plain": [
       "Index(['PassengerId', 'Survived', 'Pclass', 'Age', 'SibSp', 'Parch', 'Fare',\n",
       "       'train_or_test'],\n",
       "      dtype='object')"
      ]
     },
     "execution_count": 7,
     "metadata": {},
     "output_type": "execute_result"
    }
   ],
   "source": [
    "#segregating numeric columns\n",
    "training_data.describe().columns"
   ]
  },
  {
   "cell_type": "code",
   "execution_count": 8,
   "metadata": {
    "execution": {
     "iopub.execute_input": "2025-09-07T04:16:24.757082Z",
     "iopub.status.busy": "2025-09-07T04:16:24.756823Z",
     "iopub.status.idle": "2025-09-07T04:16:24.764798Z",
     "shell.execute_reply": "2025-09-07T04:16:24.764053Z",
     "shell.execute_reply.started": "2025-09-07T04:16:24.757058Z"
    },
    "trusted": true
   },
   "outputs": [],
   "source": [
    "#numeric and  categorical to separate dataframes\n",
    "\n",
    "df_numeric = training_data[['Age','SibSp','Parch', 'Fare']]\n",
    "df_categories = training_data[['Survived', 'Pclass','Sex','Ticket','Cabin','Embarked']]"
   ]
  },
  {
   "cell_type": "code",
   "execution_count": 9,
   "metadata": {
    "execution": {
     "iopub.execute_input": "2025-09-07T04:16:24.765880Z",
     "iopub.status.busy": "2025-09-07T04:16:24.765575Z",
     "iopub.status.idle": "2025-09-07T04:16:25.618668Z",
     "shell.execute_reply": "2025-09-07T04:16:25.618071Z",
     "shell.execute_reply.started": "2025-09-07T04:16:24.765854Z"
    },
    "trusted": true
   },
   "outputs": [
    {
     "data": {
      "image/png": "[encoded data removed]",
      "text/plain": [
       "<Figure size 400x300 with 1 Axes>"
      ]
     },
     "metadata": {},
     "output_type": "display_data"
    },
    {
     "data": {
      "image/png": "[encoded data removed]",
      "text/plain": [
       "<Figure size 400x300 with 1 Axes>"
      ]
     },
     "metadata": {},
     "output_type": "display_data"
    },
    {
     "data": {
      "image/png": "[encoded data removed]",
      "text/plain": [
       "<Figure size 400x300 with 1 Axes>"
      ]
     },
     "metadata": {},
     "output_type": "display_data"
    },
    {
     "data": {
      "image/png": "[encoded data removed]",
      "text/plain": [
       "<Figure size 400x300 with 1 Axes>"
      ]
     },
     "metadata": {},
     "output_type": "display_data"
    }
   ],
   "source": [
    "#plot the numericals as histograms\n",
    "for col in df_numeric:\n",
    "    plt.figure(figsize=(4, 3))  # width=4 inches, height=3 inches (smaller than default)\n",
    "    plt.hist(df_numeric[col], bins=20, color='#008080', edgecolor='black')  # optional styling\n",
    "    plt.title(col)\n",
    "    plt.tight_layout()  # avoids overlapping labels\n",
    "    plt.show()\n"
   ]
  },
  {
   "cell_type": "code",
   "execution_count": 10,
   "metadata": {
    "execution": {
     "iopub.execute_input": "2025-09-07T04:16:25.619717Z",
     "iopub.status.busy": "2025-09-07T04:16:25.619427Z",
     "iopub.status.idle": "2025-09-07T04:16:25.815588Z",
     "shell.execute_reply": "2025-09-07T04:16:25.814793Z",
     "shell.execute_reply.started": "2025-09-07T04:16:25.619696Z"
    },
    "trusted": true
   },
   "outputs": [
    {
     "name": "stdout",
     "output_type": "stream",
     "text": [
      "            Age     SibSp     Parch      Fare\n",
      "Age    1.000000 -0.308247 -0.189119  0.096067\n",
      "SibSp -0.308247  1.000000  0.414838  0.159651\n",
      "Parch -0.189119  0.414838  1.000000  0.216225\n",
      "Fare   0.096067  0.159651  0.216225  1.000000\n"
     ]
    },
    {
     "data": {
      "text/plain": [
       "<Axes: >"
      ]
     },
     "execution_count": 10,
     "metadata": {},
     "output_type": "execute_result"
    },
    {
     "data": {
      "image/png": "[encoded data removed]",
      "text/plain": [
       "<Figure size 640x480 with 2 Axes>"
      ]
     },
     "metadata": {},
     "output_type": "display_data"
    }
   ],
   "source": [
    "#AGE is very normal, but some of these columns need normalization and scaling later downstream\n",
    "#what are some correlations in between numerical data\n",
    "\n",
    "print(df_numeric.corr())\n",
    "sns.heatmap(df_numeric.corr())"
   ]
  },
  {
   "cell_type": "markdown",
   "metadata": {},
   "source": [
    "in regression, we want to avoid multicollinearity i.e. 2 variables with v high correlation as taht impacts the model"
   ]
  },
  {
   "cell_type": "code",
   "execution_count": 11,
   "metadata": {
    "execution": {
     "iopub.execute_input": "2025-09-07T04:16:25.817701Z",
     "iopub.status.busy": "2025-09-07T04:16:25.817490Z",
     "iopub.status.idle": "2025-09-07T04:16:25.831934Z",
     "shell.execute_reply": "2025-09-07T04:16:25.831324Z",
     "shell.execute_reply.started": "2025-09-07T04:16:25.817684Z"
    },
    "trusted": true
   },
   "outputs": [
    {
     "data": {
      "text/html": [
       "<div>\n",
       "<style scoped>\n",
       "    .dataframe tbody tr th:only-of-type {\n",
       "        vertical-align: middle;\n",
       "    }\n",
       "\n",
       "    .dataframe tbody tr th {\n",
       "        vertical-align: top;\n",
       "    }\n",
       "\n",
       "    .dataframe thead th {\n",
       "        text-align: right;\n",
       "    }\n",
       "</style>\n",
       "<table border=\"1\" class=\"dataframe\">\n",
       "  <thead>\n",
       "    <tr style=\"text-align: right;\">\n",
       "      <th></th>\n",
       "      <th>Age</th>\n",
       "      <th>Fare</th>\n",
       "      <th>Parch</th>\n",
       "      <th>SibSp</th>\n",
       "    </tr>\n",
       "    <tr>\n",
       "      <th>Survived</th>\n",
       "      <th></th>\n",
       "      <th></th>\n",
       "      <th></th>\n",
       "      <th></th>\n",
       "    </tr>\n",
       "  </thead>\n",
       "  <tbody>\n",
       "    <tr>\n",
       "      <th>0</th>\n",
       "      <td>30.626179</td>\n",
       "      <td>22.117887</td>\n",
       "      <td>0.329690</td>\n",
       "      <td>0.553734</td>\n",
       "    </tr>\n",
       "    <tr>\n",
       "      <th>1</th>\n",
       "      <td>28.343690</td>\n",
       "      <td>48.395408</td>\n",
       "      <td>0.464912</td>\n",
       "      <td>0.473684</td>\n",
       "    </tr>\n",
       "  </tbody>\n",
       "</table>\n",
       "</div>"
      ],
      "text/plain": [
       "                Age       Fare     Parch     SibSp\n",
       "Survived                                          \n",
       "0         30.626179  22.117887  0.329690  0.553734\n",
       "1         28.343690  48.395408  0.464912  0.473684"
      ]
     },
     "execution_count": 11,
     "metadata": {},
     "output_type": "execute_result"
    }
   ],
   "source": [
    "#compare survival rate across age, sibsp, parch etc\n",
    "\"\"\"\n",
    "This function aggregates data based on some key(s) (index) and calculates summary statistics for other columns (values).\n",
    "\n",
    "By default, the aggregation function is mean if you don’t specify aggfunc.\n",
    "\"\"\"\n",
    "\n",
    "pd.pivot_table(training_data, index = 'Survived', values = ['Age','SibSp','Parch', 'Fare'])"
   ]
  },
  {
   "cell_type": "code",
   "execution_count": 12,
   "metadata": {
    "execution": {
     "iopub.execute_input": "2025-09-07T04:16:25.832904Z",
     "iopub.status.busy": "2025-09-07T04:16:25.832637Z",
     "iopub.status.idle": "2025-09-07T04:16:31.596535Z",
     "shell.execute_reply": "2025-09-07T04:16:31.595878Z",
     "shell.execute_reply.started": "2025-09-07T04:16:25.832882Z"
    },
    "trusted": true
   },
   "outputs": [
    {
     "data": {
      "image/png": "[encoded data removed]",
      "text/plain": [
       "<Figure size 640x480 with 1 Axes>"
      ]
     },
     "metadata": {},
     "output_type": "display_data"
    },
    {
     "data": {
      "image/png": "[encoded data removed]",
      "text/plain": [
       "<Figure size 640x480 with 1 Axes>"
      ]
     },
     "metadata": {},
     "output_type": "display_data"
    },
    {
     "data": {
      "image/png": "[encoded data removed]",
      "text/plain": [
       "<Figure size 640x480 with 1 Axes>"
      ]
     },
     "metadata": {},
     "output_type": "display_data"
    },
    {
     "data": {
      "image/png": "[encoded data removed]",
      "text/plain": [
       "<Figure size 640x480 with 1 Axes>"
      ]
     },
     "metadata": {},
     "output_type": "display_data"
    },
    {
     "data": {
      "image/png": "[encoded data removed]",
      "text/plain": [
       "<Figure size 640x480 with 1 Axes>"
      ]
     },
     "metadata": {},
     "output_type": "display_data"
    },
    {
     "data": {
      "image/png": "[encoded data removed]",
      "text/plain": [
       "<Figure size 640x480 with 1 Axes>"
      ]
     },
     "metadata": {},
     "output_type": "display_data"
    }
   ],
   "source": [
    "#looking at the categorical data\n",
    "for column in df_categories.columns:\n",
    "    counts = df_categories[column].value_counts()\n",
    "    sns.barplot(x=counts.index, y=counts.values)  # <-- use x= and y=\n",
    "    plt.title(column)\n",
    "    plt.show()\n",
    "    "
   ]
  },
  {
   "cell_type": "code",
   "execution_count": 13,
   "metadata": {
    "execution": {
     "iopub.execute_input": "2025-09-07T04:16:31.597597Z",
     "iopub.status.busy": "2025-09-07T04:16:31.597321Z",
     "iopub.status.idle": "2025-09-07T04:16:31.630474Z",
     "shell.execute_reply": "2025-09-07T04:16:31.629564Z",
     "shell.execute_reply.started": "2025-09-07T04:16:31.597578Z"
    },
    "trusted": true
   },
   "outputs": [
    {
     "name": "stdout",
     "output_type": "stream",
     "text": [
      "Pclass      1   2    3\n",
      "Survived              \n",
      "0          80  97  372\n",
      "1         136  87  119\n",
      "\n",
      "Sex       female  male\n",
      "Survived              \n",
      "0             81   468\n",
      "1            233   109\n",
      "\n",
      "Embarked   C   Q    S\n",
      "Survived             \n",
      "0         75  47  427\n",
      "1         93  30  217\n"
     ]
    }
   ],
   "source": [
    "#comparing survival for each of the categories\n",
    "\n",
    "print(pd.pivot_table(training_data, index = 'Survived', columns = 'Pclass', values = 'Ticket', aggfunc = 'count'))\n",
    "\n",
    "'''\n",
    "index='Survived' → rows will be split by survival (0 or 1).\n",
    "columns='Pclass' → columns will be split by passenger class (1, 2, 3).\n",
    "values='Ticket' + aggfunc='count' → count how many tickets (i.e., passengers) fall into each (Survived, Pclass) combination.'''\n",
    "print()\n",
    "print(pd.pivot_table(training_data, index = 'Survived', columns = 'Sex', values = 'Ticket', aggfunc = 'count'))\n",
    "print()\n",
    "print(pd.pivot_table(training_data, index = 'Survived', columns = 'Embarked', values = 'Ticket', aggfunc = 'count'))\n",
    "\n"
   ]
  },
  {
   "cell_type": "code",
   "execution_count": 14,
   "metadata": {
    "execution": {
     "iopub.execute_input": "2025-09-07T04:16:31.631507Z",
     "iopub.status.busy": "2025-09-07T04:16:31.631239Z",
     "iopub.status.idle": "2025-09-07T04:16:31.637719Z",
     "shell.execute_reply": "2025-09-07T04:16:31.636821Z",
     "shell.execute_reply.started": "2025-09-07T04:16:31.631486Z"
    },
    "trusted": true
   },
   "outputs": [
    {
     "data": {
      "text/plain": [
       "80            NaN\n",
       "81            NaN\n",
       "82            NaN\n",
       "83            NaN\n",
       "84            NaN\n",
       "85            NaN\n",
       "86            NaN\n",
       "87            NaN\n",
       "88    C23 C25 C27\n",
       "89            NaN\n",
       "Name: Cabin, dtype: object"
      ]
     },
     "execution_count": 14,
     "metadata": {},
     "output_type": "execute_result"
    }
   ],
   "source": [
    "#feature engineering!\n",
    "\n",
    "#simplify cabin data. o multiple or differnet cabins impact the chances of survival?\n",
    "#mine the counts of each cabin type and how many people had 0, 1 2 or more\n",
    "\n",
    "df_categories.Cabin[80:90]"
   ]
  },
  {
   "cell_type": "code",
   "execution_count": 15,
   "metadata": {
    "execution": {
     "iopub.execute_input": "2025-09-07T04:16:31.638940Z",
     "iopub.status.busy": "2025-09-07T04:16:31.638652Z",
     "iopub.status.idle": "2025-09-07T04:16:31.654545Z",
     "shell.execute_reply": "2025-09-07T04:16:31.653922Z",
     "shell.execute_reply.started": "2025-09-07T04:16:31.638909Z"
    },
    "trusted": true
   },
   "outputs": [
    {
     "name": "stdout",
     "output_type": "stream",
     "text": [
      "\n",
      "85    0\n",
      "86    0\n",
      "87    0\n",
      "88    3\n",
      "89    0\n",
      "Name: cabin_multiple, dtype: int64\n",
      "\n",
      "cabin_multiple\n",
      "0    687\n",
      "1    180\n",
      "2     16\n",
      "3      6\n",
      "4      2\n",
      "Name: count, dtype: int64\n"
     ]
    }
   ],
   "source": [
    "print()\n",
    "'''\n",
    "pd.isna(x) checks if x is NaN (missing). \n",
    "if not null, find out how many cabins and assign that number to each row in the cabin_multiple column\n",
    "'''\n",
    "training_data['cabin_multiple'] = training_data.Cabin.apply(lambda x: 0 if pd.isna(x) else len(x.split(' ')))\n",
    "print(training_data['cabin_multiple'][85:90])\n",
    "print()\n",
    "print(training_data['cabin_multiple'].value_counts())"
   ]
  },
  {
   "cell_type": "code",
   "execution_count": 16,
   "metadata": {
    "execution": {
     "iopub.execute_input": "2025-09-07T04:19:13.446670Z",
     "iopub.status.busy": "2025-09-07T04:19:13.446085Z",
     "iopub.status.idle": "2025-09-07T04:19:13.459707Z",
     "shell.execute_reply": "2025-09-07T04:19:13.458986Z",
     "shell.execute_reply.started": "2025-09-07T04:19:13.446644Z"
    },
    "trusted": true
   },
   "outputs": [
    {
     "name": "stdout",
     "output_type": "stream",
     "text": [
      "cabin_multiple      0      1    2    3    4\n",
      "Survived                                   \n",
      "0               481.0   58.0  7.0  3.0  NaN\n",
      "1               206.0  122.0  9.0  3.0  2.0\n"
     ]
    }
   ],
   "source": [
    "#survival rate based on num of cabins\n",
    "#values='Ticket' is just the placeholder column for counting done by the aggfunc.\n",
    "print(pd.pivot_table(training_data, index = 'Survived', columns = 'cabin_multiple', values = 'Ticket', aggfunc = 'count'))"
   ]
  },
  {
   "cell_type": "code",
   "execution_count": 17,
   "metadata": {
    "execution": {
     "iopub.execute_input": "2025-09-07T04:23:39.773242Z",
     "iopub.status.busy": "2025-09-07T04:23:39.772678Z",
     "iopub.status.idle": "2025-09-07T04:23:39.788919Z",
     "shell.execute_reply": "2025-09-07T04:23:39.788211Z",
     "shell.execute_reply.started": "2025-09-07T04:23:39.773215Z"
    },
    "trusted": true
   },
   "outputs": [
    {
     "name": "stdout",
     "output_type": "stream",
     "text": [
      "cabin_letter\n",
      "n    687\n",
      "C     59\n",
      "B     47\n",
      "D     33\n",
      "E     32\n",
      "A     15\n",
      "F     13\n",
      "G      4\n",
      "T      1\n",
      "Name: count, dtype: int64\n",
      "cabin_letter    A     B     C     D     E    F    G    T      n\n",
      "Survived                                                       \n",
      "0             8.0  12.0  24.0   8.0   8.0  5.0  2.0  1.0  481.0\n",
      "1             7.0  35.0  35.0  25.0  24.0  8.0  2.0  NaN  206.0\n"
     ]
    }
   ],
   "source": [
    "#craete categories based on cabin letters\n",
    "#pick first letter \n",
    "training_data['cabin_letter'] = training_data.Cabin.apply(lambda x: str(x)[0])\n",
    "\n",
    "print(training_data['cabin_letter'].value_counts())\n",
    "\n",
    "#n here means N/A and can be used as a category or feature of its own\n",
    "#now look at teh survival rate vs cabin location on Titanic\n",
    "print(pd.pivot_table(training_data, index = 'Survived', columns = 'cabin_letter', values = 'Ticket', aggfunc = 'count'))"
   ]
  },
  {
   "cell_type": "code",
   "execution_count": 18,
   "metadata": {
    "execution": {
     "iopub.execute_input": "2025-09-07T04:33:41.524980Z",
     "iopub.status.busy": "2025-09-07T04:33:41.524272Z",
     "iopub.status.idle": "2025-09-07T04:33:41.530445Z",
     "shell.execute_reply": "2025-09-07T04:33:41.529722Z",
     "shell.execute_reply.started": "2025-09-07T04:33:41.524954Z"
    },
    "trusted": true
   },
   "outputs": [
    {
     "data": {
      "text/plain": [
       "0             A/5 21171\n",
       "1              PC 17599\n",
       "2      STON/O2. 3101282\n",
       "3                113803\n",
       "4                373450\n",
       "             ...       \n",
       "886              211536\n",
       "887              112053\n",
       "888          W./C. 6607\n",
       "889              111369\n",
       "890              370376\n",
       "Name: Ticket, Length: 891, dtype: object"
      ]
     },
     "execution_count": 18,
     "metadata": {},
     "output_type": "execute_result"
    }
   ],
   "source": [
    "#understanding the ticket values better, some are numebric smome alphanumeric\n",
    "training_data['Ticket']"
   ]
  },
  {
   "cell_type": "markdown",
   "metadata": {},
   "source": [
    "****\n",
    "Capturing ticket prefixes\n",
    "Many Titanic passengers’ tickets had prefixes like \"A/5\", \"STON/O2.\", \"C.A.\", etc.\n",
    "These prefixes often encode information about the passenger class, embarkation point, or booking group.\n",
    "\n",
    "For example:\n",
    "\n",
    "\"STON/O2.\" → usually third-class tickets from Southampton\n",
    "\"PC\" → usually first-class “Passenger Cabin” tickets\n",
    "\n",
    "The numeric part of the ticket (like 21171) is often unique to each passenger.\n",
    "If you included the number in the feature, it would create thousands of almost-unique categories, which doesn’t help a model generalize.\n",
    "By keeping only the prefix letters, you reduce it to meaningful categories.\n",
    "\n",
    "\n",
    "Once you have ticket_letters, you can:\n",
    "Encode it as a categorical feature for machine learning (one-hot encoding or label encoding).\n",
    "Analyze survival trends based on ticket groups: some prefixes may have higher survival rates due to class, group booking, or location on the ship.\n"
   ]
  },
  {
   "cell_type": "code",
   "execution_count": 19,
   "metadata": {
    "execution": {
     "iopub.execute_input": "2025-09-07T04:46:55.485957Z",
     "iopub.status.busy": "2025-09-07T04:46:55.485386Z",
     "iopub.status.idle": "2025-09-07T04:46:55.493454Z",
     "shell.execute_reply": "2025-09-07T04:46:55.492642Z",
     "shell.execute_reply.started": "2025-09-07T04:46:55.485923Z"
    },
    "trusted": true
   },
   "outputs": [
    {
     "name": "stdout",
     "output_type": "stream",
     "text": [
      "45    sca4\n",
      "46       0\n",
      "47       0\n",
      "48       0\n",
      "Name: ticket_letters, dtype: object\n"
     ]
    }
   ],
   "source": [
    "training_data['is_numeric_ticket'] = training_data.Ticket.apply(lambda x: 1 if x.isnumeric() else 0)\n",
    "\n",
    "ticket_letters_list = []\n",
    "\n",
    "for ticket in training_data.Ticket:\n",
    "    if not ticket.isnumeric():\n",
    "        # split and take all but last part\n",
    "        components = ticket.split(' ')[:-1]\n",
    "        # clean each component and join\n",
    "        cleaned = ''.join(c.replace('.', '').replace('/', '').lower() for c in components)\n",
    "        #we make a list for now, convert it to a dataframe column later\n",
    "        ticket_letters_list.append(cleaned)\n",
    "    else:\n",
    "        ticket_letters_list.append(0)\n",
    "\n",
    "# assign to new column\n",
    "training_data['ticket_letters'] = ticket_letters_list\n",
    "\n",
    "print(training_data['ticket_letters'][45:49])   \n",
    "#training_data['ticket_letter_info'] = training_data.Ticket.apply(lambda x: ''.join(x.split(' ')[:-1]).replace('.','').replace('/','').lower() if len(x.split(' ')[:-1]) >0 else 0)"
   ]
  },
  {
   "cell_type": "code",
   "execution_count": 20,
   "metadata": {
    "execution": {
     "iopub.execute_input": "2025-09-07T04:50:00.274778Z",
     "iopub.status.busy": "2025-09-07T04:50:00.274493Z",
     "iopub.status.idle": "2025-09-07T04:50:00.280834Z",
     "shell.execute_reply": "2025-09-07T04:50:00.280189Z",
     "shell.execute_reply.started": "2025-09-07T04:50:00.274757Z"
    },
    "trusted": true
   },
   "outputs": [
    {
     "data": {
      "text/plain": [
       "is_numeric_ticket\n",
       "1    661\n",
       "0    230\n",
       "Name: count, dtype: int64"
      ]
     },
     "execution_count": 20,
     "metadata": {},
     "output_type": "execute_result"
    }
   ],
   "source": [
    "training_data['is_numeric_ticket'].value_counts()\n",
    "\n",
    "#Usually standard tickets, often 3rd class, may indicate less special treatment"
   ]
  },
  {
   "cell_type": "code",
   "execution_count": 21,
   "metadata": {
    "execution": {
     "iopub.execute_input": "2025-09-07T04:54:10.610918Z",
     "iopub.status.busy": "2025-09-07T04:54:10.610352Z",
     "iopub.status.idle": "2025-09-07T04:54:10.616949Z",
     "shell.execute_reply": "2025-09-07T04:54:10.616430Z",
     "shell.execute_reply.started": "2025-09-07T04:54:10.610896Z"
    },
    "trusted": true
   },
   "outputs": [
    {
     "data": {
      "text/plain": [
       "ticket_letters\n",
       "0         661\n",
       "pc         60\n",
       "ca         41\n",
       "a5         21\n",
       "stono2     18\n",
       "Name: count, dtype: int64"
      ]
     },
     "execution_count": 21,
     "metadata": {},
     "output_type": "execute_result"
    }
   ],
   "source": [
    "#lets us view all rows in dataframe through scrolling. This is for convenience \n",
    "#pd.set_option(\"max_rows\", None)\n",
    "pd.set_option(\"display.max_rows\", None)\n",
    "\n",
    "#viewing the counts of each letter sets we extracted \n",
    "training_data['ticket_letters'].value_counts().head(5)"
   ]
  },
  {
   "cell_type": "code",
   "execution_count": 22,
   "metadata": {},
   "outputs": [
    {
     "name": "stdout",
     "output_type": "stream",
     "text": [
      "ticket_letters      0        a4    a5   as    c    ca  casoton   fa   fc  ...  \\\n",
      "Survived                                                                  ...   \n",
      "0               407.0  3.0  7.0  19.0  1.0  3.0  27.0      1.0  1.0  1.0  ...   \n",
      "1               254.0  1.0  NaN   2.0  NaN  2.0  14.0      NaN  NaN  NaN  ...   \n",
      "\n",
      "ticket_letters  soc  sop  sopp  sotono2  sotonoq   sp  stono2  swpp   wc  wep  \n",
      "Survived                                                                       \n",
      "0               5.0  1.0   3.0      2.0     13.0  1.0    10.0   NaN  9.0  2.0  \n",
      "1               1.0  NaN   NaN      NaN      2.0  NaN     8.0   2.0  1.0  1.0  \n",
      "\n",
      "[2 rows x 30 columns]\n"
     ]
    }
   ],
   "source": [
    "#differences in surviva rate between numeric and alphanumeric ticket types\n",
    "print(pd.pivot_table(training_data, index = 'Survived', columns = 'ticket_letters', values = 'Ticket', aggfunc = 'count'))"
   ]
  },
  {
   "cell_type": "code",
   "execution_count": 23,
   "metadata": {},
   "outputs": [
    {
     "data": {
      "image/png": "[encoded data removed]",
      "text/plain": [
       "<Figure size 640x480 with 1 Axes>"
      ]
     },
     "metadata": {},
     "output_type": "display_data"
    }
   ],
   "source": [
    "#create all categorical variables\n",
    "all_data['cabin_multiple'] = all_data.Cabin.apply(lambda x: 0 if pd.isna(x) else len(x.split(' ')))\n",
    "\n",
    "all_data['cabin_adv'] = all_data.Cabin.apply(lambda x: str(x)[0] )\n",
    "#print(all_data['cabin_adv'])\n",
    "'''\n",
    "The first letter of the cabin indicates the deck (A, B, C, D, etc.).\n",
    "Deck location correlated with class and survival rates.'''\n",
    "\n",
    "all_data['is_numeric'] = all_data.Ticket.apply(lambda x: 1 if x.isnumeric() else 0)\n",
    "\n",
    "all_data['ticket_letters'] = all_data.Ticket.apply(lambda x: ''.join(x.split(' ')[:-1]).replace('.','').replace('/','').lower() if len(x.split(' ')[:-1]) >0 else 0)\n",
    "all_data['name_title'] = all_data.Name.apply(lambda x: x.split(',')[1].split('.')[0].strip())\n",
    "\n",
    "#impute nulls for continuous data \n",
    "#all_data.Age = all_data.Age.fillna(training_data.Age.mean())\n",
    "all_data.Age = all_data.Age.fillna(training_data.Age.median())\n",
    "#all_data.Fare = all_data.Fare.fillna(training_data.Fare.mean())\n",
    "all_data.Fare = all_data.Fare.fillna(training_data.Fare.median())\n",
    "\n",
    "#drop null 'embarked' rows. Only 2 instances of this in training and 0 in test \n",
    "all_data.dropna(subset=['Embarked'],inplace = True)\n",
    "\n",
    "#tried log norm of sibsp (not used)\n",
    "all_data['norm_sibsp'] = np.log(all_data.SibSp+1)\n",
    "all_data['norm_sibsp'].hist()\n",
    "\n",
    "# log norm of fare (used)\n",
    "all_data['norm_fare'] = np.log(all_data.Fare+1)\n",
    "all_data['norm_fare'].hist()\n",
    "\n",
    "# converted fare to category for pd.get_dummies()\n",
    "all_data.Pclass = all_data.Pclass.astype(str)\n",
    "\n",
    "#created dummy variables from categories (also can use OneHotEncoder)\n",
    "'''\n",
    "How it works: get_dummies (will do one hot encoding of categorical data)\n",
    "It creates one column per category.\n",
    "Each row gets a 1 in the column that matches its category, and 0 elsewhere.\n",
    "'''\n",
    "all_dummies = pd.get_dummies(all_data[['Pclass','Sex','Age','SibSp','Parch','norm_fare','Embarked','cabin_adv','cabin_multiple','is_numeric','name_title','train_or_test']])"
   ]
  },
  {
   "cell_type": "markdown",
   "metadata": {},
   "source": []
  },
  {
   "cell_type": "code",
   "execution_count": null,
   "metadata": {},
   "outputs": [],
   "source": [
    "X_train = all_dummies[all_dummies.train_or_test == 1].drop(['train_or_test'], axis =1)\n",
    "# ==1 is training, ==0 is test data\n",
    "#drop Removes the column train_or_test from those rows. axis=1 means drop a column (instead of a row).\n",
    "X_test = all_dummies[all_dummies.train_or_test == 0].drop(['train_or_test'], axis =1)"
   ]
  }
 ],
 "metadata": {
  "kaggle": {
   "accelerator": "gpu",
   "dataSources": [
    {
     "databundleVersionId": 26502,
     "sourceId": 3136,
     "sourceType": "competition"
    }
   ],
   "dockerImageVersionId": 31089,
   "isGpuEnabled": true,
   "isInternetEnabled": true,
   "language": "python",
   "sourceType": "notebook"
  },
  "kernelspec": {
   "display_name": "Python 3",
   "language": "python",
   "name": "python3"
  },
  "language_info": {
   "codemirror_mode": {
    "name": "ipython",
    "version": 3
   },
   "file_extension": ".py",
   "mimetype": "text/x-python",
   "name": "python",
   "nbconvert_exporter": "python",
   "pygments_lexer": "ipython3",
   "version": "3.13.3"
  }
 },
 "nbformat": 4,
 "nbformat_minor": 4
}
